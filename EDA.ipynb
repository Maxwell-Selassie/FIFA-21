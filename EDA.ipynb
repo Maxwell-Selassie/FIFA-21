{
 "cells": [
  {
   "cell_type": "code",
   "execution_count": 1,
   "id": "09f9a261",
   "metadata": {},
   "outputs": [],
   "source": [
    "import pandas as pd\n",
    "import numpy as np\n",
    "import matplotlib.pyplot as plt\n",
    "import seaborn as sns"
   ]
  },
  {
   "cell_type": "code",
   "execution_count": 2,
   "id": "c9e27d91",
   "metadata": {},
   "outputs": [],
   "source": [
    "import logging\n",
    "logging.basicConfig(level=logging.INFO, format='%(levelname)s : %(message)s')"
   ]
  },
  {
   "cell_type": "code",
   "execution_count": 3,
   "id": "88bc52e3",
   "metadata": {},
   "outputs": [],
   "source": [
    "# ----load data-----\n",
    "def load_data(filepath: str):    \n",
    "    try:\n",
    "        df = pd.read_csv(filepath)\n",
    "        print(f\"Data loaded successfully: {df.shape[0]} rows, {df.shape[1]} columns.\")\n",
    "        return df\n",
    "    except FileNotFoundError:\n",
    "        print('File Not Found! Please check filepath and try again!')\n",
    "        raise\n"
   ]
  },
  {
   "cell_type": "code",
   "execution_count": 4,
   "id": "d04b8b22",
   "metadata": {},
   "outputs": [],
   "source": [
    "# ----------dataset overview-----\n",
    "def dataset_overview(df: pd.DataFrame):\n",
    "    logging.info(f'Number of observations : {df.shape[0]}')\n",
    "    logging.info(f'Number of features : {df.shape[1]}')\n",
    "    overview = pd.DataFrame({\n",
    "        \"Dtype\": df.dtypes,\n",
    "        \"Non-Null Count\": df.count(),\n",
    "        \"Null Count\": df.isnull().sum(),\n",
    "        \"Unique Values\": df.nunique()\n",
    "    })\n",
    "    display(overview.head(10))\n",
    "    return df.describe(include='all')"
   ]
  },
  {
   "cell_type": "code",
   "execution_count": 5,
   "id": "5bbbc11f",
   "metadata": {},
   "outputs": [],
   "source": [
    "# -------duplicate data---------\n",
    "def duplicates(df: pd.DataFrame):\n",
    "    duplicates = df[df.duplicated()]\n",
    "    logging.info(f'Number of duplicated rows : {len(duplicates)}')\n",
    "    if len(duplicates) == 0:\n",
    "        logging.info(f'No duplicates found')\n",
    "    return duplicates"
   ]
  },
  {
   "cell_type": "code",
   "execution_count": 6,
   "id": "64b1669a",
   "metadata": {},
   "outputs": [],
   "source": [
    "# -----missing data---------\n",
    "def missing_data(df: pd.DataFrame):\n",
    "    missing_values = df.isnull().sum()\n",
    "    missing_pct = (missing_values / len(df)) * 100\n",
    "    missing_data = pd.DataFrame({\n",
    "        'Missing Values' : missing_values,\n",
    "        'Missing Pct' : missing_pct.round(2)\n",
    "    }).sort_values(by='Missing Pct',ascending=False)\n",
    "    logging.info(f'---------Missing Data(Top 10)----------\\n')\n",
    "    display(missing_data.head(10))\n",
    "    return missing_data"
   ]
  },
  {
   "cell_type": "code",
   "execution_count": 7,
   "id": "9326a515",
   "metadata": {},
   "outputs": [],
   "source": [
    "# ---column summaries--------\n",
    "def column_summaries(df: pd.DataFrame):\n",
    "    numeric_cols = df.select_dtypes(include=[np.number]).columns\n",
    "    for i,col in enumerate(numeric_cols,1):\n",
    "        logging.info(f'{i:<2}. {col:<17} -Min : {df[col].min():<4} -Max : {df[col].max()}')\n",
    "\n",
    "    categorical_cols = df.select_dtypes(exclude=[np.number]).columns\n",
    "    for i,col in enumerate(categorical_cols,1):\n",
    "        uniques = df[col].unique()\n",
    "        logging.info(f'{i}. {col} | Unique : {df[col].nunique()} | Examples : {uniques[:5]}')\n",
    "    return numeric_cols, categorical_cols"
   ]
  },
  {
   "cell_type": "code",
   "execution_count": null,
   "id": "4cfa3e50",
   "metadata": {},
   "outputs": [],
   "source": [
    "# outlier detection using IQR\n",
    "def check_outliers(df: pd.DataFrame, col: str):\n",
    "    Q1 = df[col].quantile(0.25)\n",
    "    Q3 = df[col].quantile(0.75)\n",
    "    IQR = Q3 - Q1\n",
    "    lower_bound = Q1 - 1.5 * IQR\n",
    "    upper_bound = Q3 + 1.5 * IQR\n",
    "    outlier = df[(df[col] < lower_bound) | (df[col] > upper_bound)]\n",
    "    return outlier, upper_bound, lower_bound\n",
    "\n",
    "def outlier_summary(df: pd.DataFrame, numeric_cols):\n",
    "    results = []\n",
    "    logging.info(f\"\\n Outlier Summary (IQR Method):\")\n",
    "    for i, col in enumerate(numeric_cols, 1):\n",
    "        outlier, lower, upper = check_outliers(df, col)\n",
    "        results.append({\n",
    "            'column' : col,\n",
    "            'Outlier_count' : len(outlier),\n",
    "            'lower_bound' : lower,\n",
    "            'upper_bound' : upper\n",
    "        })\n",
    "    summary_df = pd.DataFrame(results)\n",
    "    display(summary_df)\n",
    "    return summary_df\n",
    "        "
   ]
  },
  {
   "cell_type": "code",
   "execution_count": 9,
   "id": "bc4176b2",
   "metadata": {},
   "outputs": [],
   "source": [
    "# ---- Save Reports ----\n",
    "import os\n",
    "def save_summary(df: pd.DataFrame, name: str):\n",
    "    os.makedirs(\"eda_reports\", exist_ok=True)\n",
    "    path = f\"eda_reports/{name}.csv\"\n",
    "    df.to_csv(path, index=False)\n",
    "    logging.info(f\"Saved report: {path}\")"
   ]
  },
  {
   "cell_type": "code",
   "execution_count": 10,
   "id": "023bbb02",
   "metadata": {},
   "outputs": [],
   "source": [
    "def run_basic_eda(filepath: str):\n",
    "    df = load_data(filepath)\n",
    "    overview = dataset_overview(df)\n",
    "    duplicate = duplicates(df)\n",
    "    missing = missing_data(df)\n",
    "    numeric_cols,category_cols = column_summaries(df)\n",
    "    outlier_df = outlier_summary(df,numeric_cols)\n",
    "\n",
    "    save_summary(missing, \"missing_data\")\n",
    "    save_summary(outlier_df, \"outlier_summary\")\n",
    "    \n",
    "    return {\n",
    "        'data' : df,\n",
    "        'overview' : overview,\n",
    "        'duplicate' : duplicate,\n",
    "        'missing' : missing,\n",
    "        'outliers' : outlier_df,\n",
    "        'numeric_cols' : numeric_cols,\n",
    "        'category_cols' : category_cols\n",
    "    }"
   ]
  },
  {
   "cell_type": "code",
   "execution_count": null,
   "id": "8ca43f45",
   "metadata": {},
   "outputs": [],
   "source": [
    "if __name__ == '__main__':\n",
    "    df = run_basic_eda(\"fifa21 raw data v2.csv\")"
   ]
  }
 ],
 "metadata": {
  "kernelspec": {
   "display_name": "fifa-21-I-T40FlB-py3.11",
   "language": "python",
   "name": "python3"
  },
  "language_info": {
   "codemirror_mode": {
    "name": "ipython",
    "version": 3
   },
   "file_extension": ".py",
   "mimetype": "text/x-python",
   "name": "python",
   "nbconvert_exporter": "python",
   "pygments_lexer": "ipython3",
   "version": "3.11.9"
  }
 },
 "nbformat": 4,
 "nbformat_minor": 5
}
